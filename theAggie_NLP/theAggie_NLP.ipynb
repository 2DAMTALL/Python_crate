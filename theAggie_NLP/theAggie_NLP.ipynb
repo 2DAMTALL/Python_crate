{
 "cells": [
  {
   "cell_type": "markdown",
   "metadata": {},
   "source": [
    "# Assignment 5\n",
    "\n",
    "In this assignment, you'll scrape text from [The California Aggie](https://theaggie.org/) and then analyze the text.\n",
    "\n",
    "The Aggie is organized by category into article lists. For example, there's a [Campus News](https://theaggie.org/campus/) list, [Arts & Culture](https://theaggie.org/arts/) list, and [Sports](https://theaggie.org/sports/) list. Notice that each list has multiple pages, with a maximum of 15 articles per page.\n",
    "\n",
    "The goal of exercises 1.1 - 1.3 is to scrape articles from the Aggie for analysis in exercise 1.4."
   ]
  },
  {
   "cell_type": "markdown",
   "metadata": {},
   "source": [
    "__Exercise 1.1.__ Write a function that extracts all of the links to articles in an Aggie article list. The function should:\n",
    "\n",
    "* Have a parameter `url` for the URL of the article list.\n",
    "\n",
    "* Have a parameter `page` for the number of pages to fetch links from. The default should be `1`.\n",
    "\n",
    "* Return a list of aricle URLs (each URL should be a string).\n",
    "\n",
    "Test your function on 2-3 different categories to make sure it works.\n",
    "\n",
    "Hints:\n",
    "\n",
    "* Be polite to The Aggie and save time by setting up [requests_cache](https://pypi.python.org/pypi/requests-cache) before you write your function.\n",
    "\n",
    "* Start by getting your function to work for just 1 page. Once that works, have your function call itself to get additional pages.\n",
    "\n",
    "* You can use [lxml.html](http://lxml.de/lxmlhtml.html) or [BeautifulSoup](https://www.crummy.com/software/BeautifulSoup/bs4/doc/) to scrape HTML. Choose one and use it throughout the entire assignment."
   ]
  },
  {
   "cell_type": "markdown",
   "metadata": {},
   "source": [
    "__Solution 1.1.__"
   ]
  },
  {
   "cell_type": "code",
   "execution_count": 1,
   "metadata": {
    "collapsed": true
   },
   "outputs": [],
   "source": [
    "#setup\n",
    "import numpy as np\n",
    "import pandas as pd\n",
    "import requests\n",
    "import requests_cache\n",
    "import seaborn as sb\n",
    "import matplotlib.pyplot as plt\n",
    "import nltk\n",
    "\n",
    "from nltk import corpus\n",
    "from nltk.corpus import stopwords\n",
    "from nltk.tokenize import RegexpTokenizer\n",
    "from nltk.stem.porter import PorterStemmer\n",
    "from nltk import WordNetLemmatizer\n",
    "from bs4 import BeautifulSoup as bsoup\n",
    "from wordcloud import WordCloud\n",
    "from collections import Counter\n",
    "from sklearn.feature_extraction.text import TfidfVectorizer\n",
    "from sklearn.metrics.pairwise import cosine_similarity\n",
    "\n",
    "%matplotlib inline\n",
    "requests_cache.install_cache(\"aggie_cache\")"
   ]
  },
  {
   "cell_type": "code",
   "execution_count": 2,
   "metadata": {
    "collapsed": false
   },
   "outputs": [],
   "source": [
    "def extract_article_link(url_link, page_num = 1, art_links = None):\n",
    "    \"\"\"\n",
    "    Extract article urls from a given url page\n",
    "    \n",
    "    Arguments:\n",
    "        url_link : the url page to extract from\n",
    "        page_num : up to how many pages to extract(default to 1)\n",
    "        art_links: list to store links\n",
    "    \n",
    "    Return:\n",
    "        list of article links\n",
    "    \"\"\"\n",
    "    #detect error\n",
    "    try:\n",
    "        url_rsp = requests.get(url_link)\n",
    "    except:\n",
    "        requests.get(url_link).raise_for_status()\n",
    "    #make a list to store article links, prevent from reinitializing during recursion   \n",
    "    if art_links == None:\n",
    "        art_links = []\n",
    "           \n",
    "    #page content in unicode\n",
    "    page_soup = bsoup(url_rsp.text, 'html.parser')\n",
    "\n",
    "    #next page url\n",
    "    next_page = page_soup.find_all('a', class_ ='page-numbers')\n",
    "    next_page_url = next_page[-1].get('href')        \n",
    "    \n",
    "    #get all the h2 tags in the html page\n",
    "    h2_all = page_soup.find_all(\"h2\", class_=\"entry-title\")\n",
    "        \n",
    "    #get all the link in with a tags and append it to the list\n",
    "    for i in xrange(len(h2_all)):\n",
    "        art_links.append(h2_all[i].a.get('href'))\n",
    "    #if only want 1 page of urls, return the list    \n",
    "    if int(page_num) == 1:\n",
    "        return art_links\n",
    "    #else recursively calling the function until url_page is 1\n",
    "    else:\n",
    "        return extract_article_link(next_page_url, page_num -1, art_links)\n",
    "    #return art_links"
   ]
  },
  {
   "cell_type": "code",
   "execution_count": 3,
   "metadata": {
    "collapsed": false,
    "scrolled": true
   },
   "outputs": [
    {
     "data": {
      "text/plain": [
       "[u'https://theaggie.org/2017/02/21/uc-president-selects-gary-may-as-new-uc-davis-chancellor/',\n",
       " u'https://theaggie.org/2017/02/20/katehi-controversy-prompts-decline-of-uc-administrators-seeking-profitable-subsidiary-board-positions/',\n",
       " u'https://theaggie.org/2017/02/20/asucd-senate-passes-resolution-submitting-comments-on-lrdp/',\n",
       " u'https://theaggie.org/2017/02/20/uc-releases-2016-annual-report-on-sustainable-practices/',\n",
       " u'https://theaggie.org/2017/02/19/uc-davis-global-affairs-holds-discussion-on-president-donald-trumps-executive-orders-on-immigration/',\n",
       " u'https://theaggie.org/2017/02/19/trumps-immigration-ban-affects-uc-davis-community/']"
      ]
     },
     "execution_count": 3,
     "metadata": {},
     "output_type": "execute_result"
    }
   ],
   "source": [
    "#demo in campus news sections\n",
    "extract_article_link(\"https://theaggie.org/campus\")[:6]"
   ]
  },
  {
   "cell_type": "code",
   "execution_count": 4,
   "metadata": {
    "collapsed": false
   },
   "outputs": [
    {
     "data": {
      "text/plain": [
       "[u'https://theaggie.org/2017/02/20/student-sounds-samantha-sipin/',\n",
       " u'https://theaggie.org/2017/02/20/tv-revisited-the-office/',\n",
       " u'https://theaggie.org/2017/02/19/uc-davis-theater-and-dance-presents-its-newest-comedy/',\n",
       " u'https://theaggie.org/2017/02/19/twenty-one-pilots-emotional-roadshow-world-tour/',\n",
       " u'https://theaggie.org/2017/02/16/a-night-under-the-stars/',\n",
       " u'https://theaggie.org/2017/02/14/critically-acclaimed-stand-up-comic-brian-regan-to-perform-at-mondavi-center/']"
      ]
     },
     "execution_count": 4,
     "metadata": {},
     "output_type": "execute_result"
    }
   ],
   "source": [
    "#demo in art section\n",
    "extract_article_link(\"https://theaggie.org/arts\")[:6]"
   ]
  },
  {
   "cell_type": "markdown",
   "metadata": {},
   "source": [
    "<hr style=\"height:2px;border:none;color:#333;\" />"
   ]
  },
  {
   "cell_type": "markdown",
   "metadata": {},
   "source": [
    "__Exercise 1.2.__ Write a function that extracts the title, text, and author of an Aggie article. The function should:\n",
    "\n",
    "* Have a parameter `url` for the URL of the article.\n",
    "\n",
    "* For the author, extract the \"Written By\" line that appears at the end of most articles. You don't have to extract the author's name from this line.\n",
    "\n",
    "* Return a dictionary with keys \"url\", \"title\", \"text\", and \"author\". The values for these should be the article url, title, text, and author, respectively.\n",
    "\n",
    "For example, for [this article](https://theaggie.org/2017/02/14/project-toto-aims-to-address-questions-regarding-city-finances/) your function should return something similar to this:\n",
    "```\n",
    "{\n",
    "    'author': u'Written By: Bianca Antunez \\xa0\\u2014\\xa0city@theaggie.org',\n",
    "    'text': u'Davis residents create financial model to make city\\'s financial state more transparent To increase transparency between the city\\'s financial situation and the community, three residents created a model called Project Toto which aims to improve how the city communicates its finances in an easily accessible design. Jeff Miller and Matt Williams, who are members of Davis\\' Finance and Budget Commission, joined together with Davis entrepreneur Bob Fung to create the model plan to bring the project to the Finance and Budget Commission in February, according to Kelly Stachowicz, assistant city manager. \"City staff appreciate the efforts that have gone into this, and the interest in trying to look at the city\\'s potential financial position over the long term,\" Stachowicz said in an email interview. \"We all have a shared goal to plan for a sound fiscal future with few surprises. We believe the Project Toto effort will mesh well with our other efforts as we build the budget for the next fiscal year and beyond.\" Project Toto complements the city\\'s effort to amplify the transparency of city decisions to community members. The aim is to increase the understanding about the city\\'s financial situation and make the information more accessible and easier to understand. The project is mostly a tool for public education, but can also make predictions about potential decisions regarding the city\\'s financial future. Once completed, the program will allow residents to manipulate variables to see their eventual consequences, such as tax increases or extensions and proposed developments \"This really isn\\'t a budget, it is a forecast to see the intervention of these decisions,\" Williams said in an interview with The Davis Enterprise. \"What happens if we extend the sales tax? What does it do given the other numbers that are in?\" Project Toto enables users, whether it be a curious Davis resident, a concerned community member or a city leader, with the ability to project city finances with differing variables. The online program consists of the 400-page city budget for the 2016-2017 fiscal year, the previous budget, staff reports and consultant analyses. All of the documents are cited and accessible to the public within Project Toto. \"It\\'s a model that very easily lends itself to visual representation,\" Mayor Robb Davis said. \"You can see the impacts of decisions the council makes on the fiscal health of the city.\" Complementary to this program, there is also a more advanced version of the model with more in-depth analyses of the city\\'s finances. However, for an easy-to-understand, simplistic overview, Project Toto should be enough to help residents comprehend Davis finances. There is still more to do on the project, but its creators are hard at work trying to finalize it before the 2017-2018 fiscal year budget. \"It\\'s something I have been very much supportive of,\" Davis said. \"Transparency is not just something that I have been supportive of but something we have stated as a city council objective [ ] this fits very well with our attempt to inform the public of our challenges with our fiscal situation.\" ',\n",
    "    'title': 'Project Toto aims to address questions regarding city finances',\n",
    "    'url': 'https://theaggie.org/2017/02/14/project-toto-aims-to-address-questions-regarding-city-finances/'\n",
    "}\n",
    "```\n",
    "\n",
    "Hints:\n",
    "\n",
    "* The author line is always the last line of the last paragraph.\n",
    "\n",
    "*   Python 2 displays some Unicode characters as `\\uXXXX`. For instance, `\\u201c` is a left-facing quotation mark.\n",
    "    You can convert most of these to ASCII characters with the method call (on a string)\n",
    "    ```\n",
    "    .translate({ 0x2018:0x27, 0x2019:0x27, 0x201C:0x22, 0x201D:0x22, 0x2026:0x20 })\n",
    "    ```\n",
    "    If you're curious about these characters, you can look them up on [this page](http://unicode.org/cldr/utility/character.jsp), or read \n",
    "    more about [what Unicode is](http://unicode.org/standard/WhatIsUnicode.html)."
   ]
  },
  {
   "cell_type": "markdown",
   "metadata": {},
   "source": [
    "__Solution 1.2.__"
   ]
  },
  {
   "cell_type": "code",
   "execution_count": 5,
   "metadata": {
    "collapsed": false
   },
   "outputs": [],
   "source": [
    "def extract_article_info(art_url):\n",
    "    \"\"\"\n",
    "    Extract article urls from a given url page\n",
    "    \n",
    "    Arguments:\n",
    "        url_link : the url page to extract from\n",
    "        page_num : up to how many pages to extract(default to 1)\n",
    "        art_links: list to store links\n",
    "    \n",
    "    Return:\n",
    "        list of article links\n",
    "    \"\"\"\n",
    "    #for translate unicode\n",
    "    code = { 0x2018:0x27, 0x2019:0x27, 0x201C:0x22, 0x201D:0x22, 0x2026:0x20 }\n",
    "    #dictionary to store all values\n",
    "    art_dict = {}\n",
    "    \n",
    "    #article url\n",
    "    art_dict['url'] = art_url\n",
    "\n",
    "    art_resp = requests.get(art_url)\n",
    "    #article content in unicode\n",
    "    art_soup = bsoup(art_resp.text, 'lxml')\n",
    "    #title of the article\n",
    "    art_dict['title'] = art_soup.title.string.split('|')[0].strip().translate(code)\n",
    "    \n",
    "    #getting all <p> in div class called clearfix\n",
    "    art_div = art_soup.find_all('div', attrs = {\"class\": \"clearfix\"})\n",
    "    #loop over each div and find the correct p\n",
    "    for i in art_div:\n",
    "        if i.find_all('p') != []:\n",
    "            art_content = i.find_all('p')\n",
    "            break  \n",
    "    #author of the article\n",
    "    art_dict['author'] = art_content[-1].text.split('\\n')[-1]\n",
    "    \n",
    "    #string to glue all <p> for article text\n",
    "    art_str =''\n",
    "    \n",
    "    if art_content[0].strong != None:\n",
    "        art_bold = art_content[0].strong.text.translate(code)\n",
    "        for i in art_content[1:]:\n",
    "            art_str += i.text.translate(code).strip()\n",
    "        #filter out written by in p tags \n",
    "        if \"@theaggie.org\" not in art_str:\n",
    "            art_dict['text'] = art_bold + ' ' + art_str.split('\\n')[0]\n",
    "        else:\n",
    "            art_str = ''\n",
    "            for i in art_content[1:-1]:\n",
    "                art_str += i.text.translate(code).strip()\n",
    "            art_dict['text'] = art_bold + ' ' + art_str.split('\\n')[0]\n",
    "            \n",
    "\n",
    "    else:\n",
    "        for i in art_content:\n",
    "            art_str += i.text.translate(code).strip()+ ' '\n",
    "        #text\n",
    "        if \"@theaggie.org\" not in art_str:\n",
    "            art_dict['text'] = art_str.split('\\n')[0] \n",
    "\n",
    "        else:\n",
    "            for i in art_content[:-1]:\n",
    "                art_str += i.text.translate(code).strip() + ' '\n",
    "        \n",
    "            art_dict['text'] = art_str.split('\\n')[0]\n",
    "        \n",
    "    return art_dict"
   ]
  },
  {
   "cell_type": "code",
   "execution_count": 6,
   "metadata": {
    "collapsed": false,
    "scrolled": false
   },
   "outputs": [
    {
     "data": {
      "text/plain": [
       "{'author': u'Written By: Bianca Antunez \\xa0\\u2014\\xa0city@theaggie.org',\n",
       " 'text': u'Davis residents create financial model to make city\\'s financial state more transparent To increase transparency between the city\\'s financial situation and the community, three residents created a model called Project Toto which aims to improve how the city communicates its finances in an easily accessible design.Jeff Miller and Matt Williams, who are members of Davis\\' Finance and Budget Commission, joined together with Davis entrepreneur Bob Fung to create the model plan to bring the project to the Finance and Budget Commission in February, according to Kelly Stachowicz, assistant city manager.\"City staff appreciate the efforts that have gone into this, and the interest in trying to look at the city\\'s potential financial position over the long term,\" Stachowicz said in an email interview. \"We all have a shared goal to plan for a sound fiscal future with few surprises. We believe the Project Toto effort will mesh well with our other efforts as we build the budget for the next fiscal year and beyond.\"Project Toto complements the city\\'s effort to amplify the transparency of city decisions to community members. The aim is to increase the understanding about the city\\'s financial situation and make the information more accessible and easier to understand.The project is mostly a tool for public education, but can also make predictions about potential decisions regarding the city\\'s financial future. Once completed, the program will allow residents to manipulate variables to see their eventual consequences, such as tax increases or extensions and proposed developments\"This really isn\\'t a budget, it is a forecast to see the intervention of these decisions,\" Williams said in an interview with The Davis Enterprise. \"What happens if we extend the sales tax? What does it do given the other numbers that are in?\"Project Toto enables users, whether it be a curious Davis resident, a concerned community member or a city leader, with the ability to project city finances with differing variables.The online program consists of the 400-page city budget for the 2016-2017 fiscal year, the previous budget, staff reports and consultant analyses. All of the documents are cited and accessible to the public within Project Toto.\"It\\'s a model that very easily lends itself to visual representation,\" Mayor Robb Davis said. \"You can see the impacts of decisions the council makes on the fiscal health of the city.\"Complementary to this program, there is also a more advanced version of the model with more in-depth analyses of the city\\'s finances. However, for an easy-to-understand, simplistic overview, Project Toto should be enough to help residents comprehend Davis finances.There is still more to do on the project, but its creators are hard at work trying to finalize it before the 2017-2018 fiscal year budget.\"It\\'s something I have been very much supportive of,\" Davis said. \"Transparency is not just something that I have been supportive of but something we have stated as a city council objective [ ] this fits very well with our attempt to inform the public of our challenges with our fiscal situation.\"',\n",
       " 'title': u'Project Toto aims to address questions regarding city finances',\n",
       " 'url': 'https://theaggie.org/2017/02/14/project-toto-aims-to-address-questions-regarding-city-finances/'}"
      ]
     },
     "execution_count": 6,
     "metadata": {},
     "output_type": "execute_result"
    }
   ],
   "source": [
    "#demo\n",
    "demo_link = \"https://theaggie.org/2017/02/14/project-toto-aims-to-address-questions-regarding-city-finances/\"\n",
    "extract_article_info(demo_link)"
   ]
  },
  {
   "cell_type": "markdown",
   "metadata": {
    "collapsed": true
   },
   "source": [
    "<hr style=\"height:2px;border:none;color:#333;\" />"
   ]
  },
  {
   "cell_type": "markdown",
   "metadata": {},
   "source": [
    "__Exercise 1.3.__ Use your functions from exercises 1.1 and 1.2 to get a data frame of 60 [Campus News](https://theaggie.org/campus/) articles and a data frame of 60 [City News](https://theaggie.org/city/) articles. Add a column to each that indicates the category, then combine them into one big data frame.\n",
    "\n",
    "The \"text\" column of this data frame will be your corpus for natural language processing in exercise 1.4."
   ]
  },
  {
   "cell_type": "markdown",
   "metadata": {},
   "source": [
    "__Solution 1.3.__"
   ]
  },
  {
   "cell_type": "code",
   "execution_count": 7,
   "metadata": {
    "collapsed": true
   },
   "outputs": [],
   "source": [
    "def make_df(url, page_num, category):\n",
    "    \"\"\"\n",
    "    Make a pandas dataframe with given article category, url, and number of pages \n",
    "    \n",
    "    Argument: \n",
    "        URL: url of the article section to extract from(string)\n",
    "        page_num: how many pages to extract in total (int)\n",
    "        category: what kind of news category(string)\n",
    "    \n",
    "    Return: pandas df\n",
    "    \"\"\"\n",
    "    #getting the links first\n",
    "    links = extract_article_link(url,page_num)\n",
    "    #make a empty list for converting to df later\n",
    "    df_list = []\n",
    "    for  i in links:\n",
    "        df_list.append(extract_article_info(i))\n",
    "        #add category\n",
    "    df = pd.DataFrame(df_list)\n",
    "    df[\"category\"] = pd.Series(category, index = df.index)\n",
    "    return df"
   ]
  },
  {
   "cell_type": "code",
   "execution_count": 8,
   "metadata": {
    "collapsed": false
   },
   "outputs": [],
   "source": [
    "campus_news_df = make_df(\"https://theaggie.org/campus/\", 4, \"campus news\")\n",
    "city_news_df =make_df(\"https://theaggie.org/city/\", 4, \"city news\")\n",
    "news_df = campus_news_df.append(city_news_df, ignore_index = True)"
   ]
  },
  {
   "cell_type": "code",
   "execution_count": 9,
   "metadata": {
    "collapsed": false
   },
   "outputs": [
    {
     "data": {
      "text/html": [
       "<div>\n",
       "<table border=\"1\" class=\"dataframe\">\n",
       "  <thead>\n",
       "    <tr style=\"text-align: right;\">\n",
       "      <th></th>\n",
       "      <th>author</th>\n",
       "      <th>text</th>\n",
       "      <th>title</th>\n",
       "      <th>url</th>\n",
       "      <th>category</th>\n",
       "    </tr>\n",
       "  </thead>\n",
       "  <tbody>\n",
       "    <tr>\n",
       "      <th>115</th>\n",
       "      <td>Written by: Raul Castellanos — city@theaggie.org</td>\n",
       "      <td>Bernie Sanders visits Sacramento to rally for ...</td>\n",
       "      <td>Return of the Bern</td>\n",
       "      <td>https://theaggie.org/2016/11/15/return-of-the-...</td>\n",
       "      <td>city news</td>\n",
       "    </tr>\n",
       "    <tr>\n",
       "      <th>116</th>\n",
       "      <td>Written by: Alana Joldersma –– city@theaggie.org</td>\n",
       "      <td>Indoor facility will provide a cafeteria, clas...</td>\n",
       "      <td>Construction of the All Student Center at Davi...</td>\n",
       "      <td>https://theaggie.org/2016/11/14/construction-o...</td>\n",
       "      <td>city news</td>\n",
       "    </tr>\n",
       "    <tr>\n",
       "      <th>117</th>\n",
       "      <td>Written by: Raul Castellanos – city@theaggie.org</td>\n",
       "      <td>Davis turkeys threaten residents, students Acc...</td>\n",
       "      <td>Wild turkeys in Davis</td>\n",
       "      <td>https://theaggie.org/2016/11/13/wild-turkeys-i...</td>\n",
       "      <td>city news</td>\n",
       "    </tr>\n",
       "    <tr>\n",
       "      <th>118</th>\n",
       "      <td>Written by: Kaelyn Tuermer-Lee – city@theaggie...</td>\n",
       "      <td>Davis Manor neighborhood's newest street add...</td>\n",
       "      <td>Drawing the lines of community ideals</td>\n",
       "      <td>https://theaggie.org/2016/11/13/drawing-the-li...</td>\n",
       "      <td>city news</td>\n",
       "    </tr>\n",
       "    <tr>\n",
       "      <th>119</th>\n",
       "      <td>Written By: BIANCA ANTUNEZ – city@theaggie.org</td>\n",
       "      <td>Farmers overwhelming medical marijuana market ...</td>\n",
       "      <td>Cannabis cultivation permit problems persist</td>\n",
       "      <td>https://theaggie.org/2016/11/07/cannabis-culti...</td>\n",
       "      <td>city news</td>\n",
       "    </tr>\n",
       "  </tbody>\n",
       "</table>\n",
       "</div>"
      ],
      "text/plain": [
       "                                                author  \\\n",
       "115   Written by: Raul Castellanos — city@theaggie.org   \n",
       "116   Written by: Alana Joldersma –– city@theaggie.org   \n",
       "117   Written by: Raul Castellanos – city@theaggie.org   \n",
       "118  Written by: Kaelyn Tuermer-Lee – city@theaggie...   \n",
       "119     Written By: BIANCA ANTUNEZ – city@theaggie.org   \n",
       "\n",
       "                                                  text  \\\n",
       "115  Bernie Sanders visits Sacramento to rally for ...   \n",
       "116  Indoor facility will provide a cafeteria, clas...   \n",
       "117  Davis turkeys threaten residents, students Acc...   \n",
       "118    Davis Manor neighborhood's newest street add...   \n",
       "119  Farmers overwhelming medical marijuana market ...   \n",
       "\n",
       "                                                 title  \\\n",
       "115                                 Return of the Bern   \n",
       "116  Construction of the All Student Center at Davi...   \n",
       "117                              Wild turkeys in Davis   \n",
       "118              Drawing the lines of community ideals   \n",
       "119       Cannabis cultivation permit problems persist   \n",
       "\n",
       "                                                   url   category  \n",
       "115  https://theaggie.org/2016/11/15/return-of-the-...  city news  \n",
       "116  https://theaggie.org/2016/11/14/construction-o...  city news  \n",
       "117  https://theaggie.org/2016/11/13/wild-turkeys-i...  city news  \n",
       "118  https://theaggie.org/2016/11/13/drawing-the-li...  city news  \n",
       "119  https://theaggie.org/2016/11/07/cannabis-culti...  city news  "
      ]
     },
     "execution_count": 9,
     "metadata": {},
     "output_type": "execute_result"
    }
   ],
   "source": [
    "#demo\n",
    "news_df.tail()"
   ]
  },
  {
   "cell_type": "markdown",
   "metadata": {
    "collapsed": true
   },
   "source": [
    "<hr style=\"height:2px;border:none;color:#333;\" />"
   ]
  },
  {
   "cell_type": "markdown",
   "metadata": {},
   "source": [
    "__Exercise 1.4.__ Use the Aggie corpus to answer the following questions. Use plots to support your analysis.\n",
    "\n",
    "* What topics does the Aggie cover the most? Do city articles typically cover different topics than campus articles?\n",
    "\n",
    "* What are the titles of the top 3 pairs of most similar articles? Examine each pair of articles. What words do they have in common?\n",
    "\n",
    "* Do you think this corpus is representative of the Aggie? Why or why not? What kinds of inference can this corpus support? Explain your reasoning.\n",
    "\n",
    "Hints:\n",
    "\n",
    "*   The [nltk book](http://www.nltk.org/book/) and [scikit-learn documentation](http://scikit-learn.org/stable/modules/feature_extraction.html#text-feature-extraction) may be helpful here.\n",
    "\n",
    "*   You can determine whether city articles are \"near\" campus articles from the similarity matrix or with k-nearest neighbors.\n",
    "\n",
    "*   If you want, you can use the [wordcloud](http://amueller.github.io/word_cloud/) package to plot a word cloud. To install the package, run\n",
    "    ```\n",
    "    conda install -c https://conda.anaconda.org/amueller wordcloud\n",
    "    ```\n",
    "    in a terminal. Word clouds look nice and are easy to read, but are less precise than bar plots."
   ]
  },
  {
   "cell_type": "markdown",
   "metadata": {},
   "source": [
    "__Solution 1.4.__"
   ]
  },
  {
   "cell_type": "markdown",
   "metadata": {},
   "source": [
    "* What topics does the Aggie cover the most? Do city articles typically cover different topics than campus articles?\n"
   ]
  },
  {
   "cell_type": "markdown",
   "metadata": {},
   "source": [
    "### Let's first look at the word freqencies in article titles and text to get dea of topic coverage"
   ]
  },
  {
   "cell_type": "code",
   "execution_count": 10,
   "metadata": {
    "collapsed": true
   },
   "outputs": [],
   "source": [
    "#function to tokenize, lemmatize\n",
    "def process_text(text):\n",
    "    \"\"\"\n",
    "    Take text and process by tokenizing, lemmatizing \n",
    "    \n",
    "    Arguments: series of text (pd series, string)\n",
    "    \n",
    "    Return: list of words \n",
    "    \"\"\"\n",
    "    tokenize = nltk.word_tokenize\n",
    "    lemmatize = WordNetLemmatizer().lemmatize\n",
    "    toked = []\n",
    "    for i in text:\n",
    "        toked.extend(tokenize(i.lower() ))\n",
    "        \n",
    "    lemmd = [lemmatize(x, pos = 'v') for x in toked]\n",
    "    \n",
    "    stop_words = set(stopwords.words('english'))\n",
    "    filtered_text = filter(lambda x: x not in stop_words, lemmd)\n",
    "    \n",
    "    return filtered_text\n",
    "    "
   ]
  },
  {
   "cell_type": "code",
   "execution_count": 11,
   "metadata": {
    "collapsed": false
   },
   "outputs": [],
   "source": [
    "#function to stem\n",
    "def stem_text(text, filter_pun = False):\n",
    "    \"\"\"\n",
    "    Stemming text documents\n",
    "    \n",
    "    Argument: \n",
    "        text: series/list of texts(string, pd series)\n",
    "        filter_pun: boolean      \n",
    "    \n",
    "    Return: list of stemmed words(list, string)\n",
    "    \n",
    "    \"\"\"\n",
    "        \n",
    "    stemmer = PorterStemmer().stem\n",
    "    stemmed = [stemmer(i) for i in process_text(text)]\n",
    "    if filter_pun == True:\n",
    "        return [i for i in stemmed if i.isalpha()]\n",
    "    else:\n",
    "        return stemmed\n",
    "    \n",
    "    "
   ]
  },
  {
   "cell_type": "code",
   "execution_count": 12,
   "metadata": {
    "collapsed": true
   },
   "outputs": [],
   "source": [
    "#function to get top counts\n",
    "def top_count(text, n):\n",
    "    \"\"\"\n",
    "    Get top n word counts in a given text\n",
    "    \n",
    "    Arguments: \n",
    "        text: series of texts(string)\n",
    "        n: top N many words (int)\n",
    "    Return: \n",
    "    \"\"\"\n",
    "    stemming = stem_text(text)\n",
    "    top_n = Counter(stemming).most_common(100)\n",
    "    #filter out punctuation\n",
    "    top_n = [i for i in top_n if i[0].isalpha()]\n",
    "    return top_n[:n]"
   ]
  },
  {
   "cell_type": "code",
   "execution_count": 13,
   "metadata": {
    "collapsed": false,
    "scrolled": false
   },
   "outputs": [
    {
     "data": {
      "text/plain": [
       "[(u'davi', 39),\n",
       " (u'uc', 33),\n",
       " (u'polic', 11),\n",
       " (u'student', 11),\n",
       " (u'log', 10),\n",
       " (u'senat', 8),\n",
       " (u'event', 7),\n",
       " (u'protest', 6),\n",
       " (u'new', 6),\n",
       " (u'day', 6),\n",
       " (u'yolo', 6),\n",
       " (u'milo', 5),\n",
       " (u'trump', 5),\n",
       " (u'first', 5),\n",
       " (u'citi', 5),\n",
       " (u'yiannopoulo', 5),\n",
       " (u'tuition', 5),\n",
       " (u'counti', 4),\n",
       " (u'campaign', 4),\n",
       " (u'food', 4),\n",
       " (u'presid', 4),\n",
       " (u'light', 4),\n",
       " (u'last', 4),\n",
       " (u'week', 4),\n",
       " (u'sacramento', 4),\n",
       " (u'center', 4),\n",
       " (u'chancellor', 4),\n",
       " (u'host', 4),\n",
       " (u'health', 3),\n",
       " (u'school', 3)]"
      ]
     },
     "execution_count": 13,
     "metadata": {},
     "output_type": "execute_result"
    }
   ],
   "source": [
    "top_title_words = top_count(news_df['title'], 30)\n",
    "top_title_words"
   ]
  },
  {
   "cell_type": "code",
   "execution_count": 14,
   "metadata": {
    "collapsed": false,
    "scrolled": true
   },
   "outputs": [
    {
     "data": {
      "text/plain": [
       "[(u'davi', 755),\n",
       " (u'student', 573),\n",
       " (u'say', 570),\n",
       " (u'uc', 454),\n",
       " (u'commun', 310),\n",
       " (u'peopl', 238),\n",
       " (u'year', 198),\n",
       " (u'citi', 190),\n",
       " (u'campu', 187),\n",
       " (u'also', 177),\n",
       " (u'event', 176),\n",
       " (u'go', 172),\n",
       " (u'one', 158),\n",
       " (u'make', 156),\n",
       " (u'state', 149),\n",
       " (u'work', 145),\n",
       " (u'come', 143),\n",
       " (u'support', 140),\n",
       " (u'help', 137),\n",
       " (u'univers', 126),\n",
       " (u'would', 124),\n",
       " (u'provid', 123),\n",
       " (u'like', 122),\n",
       " (u'think', 121),\n",
       " (u'program', 121),\n",
       " (u'senat', 120),\n",
       " (u'want', 113),\n",
       " (u'major', 112),\n",
       " (u'california', 112),\n",
       " (u'food', 110)]"
      ]
     },
     "execution_count": 14,
     "metadata": {},
     "output_type": "execute_result"
    }
   ],
   "source": [
    "top_text_words = top_count(news_df['text'], 30)\n",
    "top_text_words"
   ]
  },
  {
   "cell_type": "markdown",
   "metadata": {},
   "source": [
    "<b>Above shows 20 most common words from 120 article titles and texts based on the frequency of word counts</b>"
   ]
  },
  {
   "cell_type": "markdown",
   "metadata": {},
   "source": [
    "### Visualize it with a word map"
   ]
  },
  {
   "cell_type": "code",
   "execution_count": 15,
   "metadata": {
    "collapsed": false,
    "scrolled": true
   },
   "outputs": [
    {
     "data": {
      "text/plain": [
       "(-0.5, 399.5, 199.5, -0.5)"
      ]
     },
     "execution_count": 15,
     "metadata": {},
     "output_type": "execute_result"
    },
    {
     "data": {
      "image/png": "[encoded data removed]",
      "text/plain": [
       "<matplotlib.figure.Figure at 0x7fdb545a4dd0>"
      ]
     },
     "metadata": {},
     "output_type": "display_data"
    }
   ],
   "source": [
    "title_words_count = [x[0] for x in top_title_words]\n",
    "text_words_count = [x[0] for x in top_text_words]\n",
    "\n",
    "title_cloud = WordCloud(max_font_size=50).generate(' '.join(title_words_count))\n",
    "text_cloud = WordCloud(max_font_size=50).generate(' '.join(text_words_count))\n",
    "# Display the generated image:\n",
    "# the matplotlib way:\n",
    "fig, axes = plt.subplots(1, 2, figsize=(20,20))\n",
    "# plt.figure(figsize = (8,4))\n",
    "# plt.subplot(121)\n",
    "axes[0].imshow(title_cloud)\n",
    "axes[0].set_title(\"Word Cloud for Title words\")\n",
    "axes[0].axis(\"off\")\n",
    "\n",
    "# plt.figure(figsize = (8,4))\n",
    "# plt.subplot(122)\n",
    "axes[1].imshow(text_cloud)\n",
    "axes[1].set_title(\"Word Cloud for Text words\")\n",
    "axes[1].axis(\"off\")\n"
   ]
  },
  {
   "cell_type": "markdown",
   "metadata": {},
   "source": [
    "### Visualize with Dotplot"
   ]
  },
  {
   "cell_type": "code",
   "execution_count": 16,
   "metadata": {
    "collapsed": false
   },
   "outputs": [],
   "source": [
    "title_count_df = pd.DataFrame(top_title_words, columns =[\"Word\",\"Count\"])\n",
    "text_count_df = pd.DataFrame(top_text_words, columns =[\"Word\",\"Count\"])"
   ]
  },
  {
   "cell_type": "code",
   "execution_count": 18,
   "metadata": {
    "collapsed": false,
    "scrolled": false
   },
   "outputs": [
    {
     "data": {
      "text/plain": [
       "<matplotlib.text.Text at 0x7fdb4c068990>"
      ]
     },
     "execution_count": 18,
     "metadata": {},
     "output_type": "execute_result"
    },
    {
     "data": {
      "image/png": "[encoded data removed]",
      "text/plain": [
       "<matplotlib.figure.Figure at 0x7fdb53df5850>"
      ]
     },
     "metadata": {},
     "output_type": "display_data"
    }
   ],
   "source": [
    "fig, axes = plt.subplots(1, 2, figsize=(15,10))\n",
    "sb.stripplot(x = \"Count\", y = \"Word\", size = 10, data = title_count_df, ax = axes[0])\n",
    "sb.stripplot(x = \"Count\", y = \"Word\", size = 10, data = text_count_df, ax = axes[1])\n",
    "axes[0].set_title(\"Frequency of words in Article Titles\")\n",
    "axes[1].set_title(\"Frequency of words in Article Texts\")"
   ]
  },
  {
   "cell_type": "markdown",
   "metadata": {
    "collapsed": true
   },
   "source": [
    "### Cosine Similiarty"
   ]
  },
  {
   "cell_type": "code",
   "execution_count": 19,
   "metadata": {
    "collapsed": true
   },
   "outputs": [],
   "source": [
    "tfidf = TfidfVectorizer(tokenizer=stem_text, stop_words='english', smooth_idf = True, norm = None)"
   ]
  },
  {
   "cell_type": "code",
   "execution_count": 20,
   "metadata": {
    "collapsed": true
   },
   "outputs": [],
   "source": [
    "tfs_camp = tfidf.fit_transform(campus_news_df['text'])\n",
    "tfs_city = tfidf.fit_transform(city_news_df['text'])"
   ]
  },
  {
   "cell_type": "code",
   "execution_count": 21,
   "metadata": {
    "collapsed": false
   },
   "outputs": [],
   "source": [
    "camp_mean = np.mean(tfs_camp.toarray())\n",
    "city_mean = np.mean(tfs_city.toarray())"
   ]
  },
  {
   "cell_type": "markdown",
   "metadata": {},
   "source": [
    "### Mean Similarity between Campus News and City News"
   ]
  },
  {
   "cell_type": "code",
   "execution_count": 22,
   "metadata": {
    "collapsed": false,
    "scrolled": true
   },
   "outputs": [
    {
     "data": {
      "text/plain": [
       "(35.464017727151926, 32.191658975362124)"
      ]
     },
     "execution_count": 22,
     "metadata": {},
     "output_type": "execute_result"
    }
   ],
   "source": [
    "camp_mean, city_mean"
   ]
  },
  {
   "cell_type": "markdown",
   "metadata": {
    "collapsed": true
   },
   "source": [
    "### Some conclusion\n",
    "#### What topics does the Aggie cover the most? Do city articles typically cover different topics than campus articles?"
   ]
  },
  {
   "cell_type": "markdown",
   "metadata": {},
   "source": [
    "* Based on the 120 articles scraped, the Aggie seems to have a tendency to cover campus related news/topics most of the time, for example, campus events, UC board news, student senate related news, police logs etc. Words like 'davis', 'student', 'polic', 'event', and 'senate' are occurs quite frequently. It is no surprise such words have tendency to show up in articles posted by the Aggie since it's a news outlet about the city of davis and its community. \n",
    "\n",
    "\n",
    "* From the mean value of the cosine similarity measure done on both campus and city articles, they appear to have somewhat similar topics. Their values do not have a huge difference. I would say since davis is a \"university\"  base city, it's reasonable to find news articles between city and campus have little difference and share similarity."
   ]
  },
  {
   "cell_type": "markdown",
   "metadata": {},
   "source": [
    "<hr style=\"height:2px;border:none;color:#333;\" />"
   ]
  },
  {
   "cell_type": "markdown",
   "metadata": {
    "collapsed": true
   },
   "source": [
    "* What are the titles of the top 3 pairs of most similar articles? Examine each pair of articles. What words do they have in common?"
   ]
  },
  {
   "cell_type": "code",
   "execution_count": 23,
   "metadata": {
    "collapsed": true
   },
   "outputs": [],
   "source": [
    "#helper function to get top n pairs from cosine similiarity matrix\n",
    "def get_top_cossim(cos_score, n ):\n",
    "    \"\"\"\n",
    "    Get top N highest value from the cosine similiarty matrix\n",
    "    \n",
    "    Argument: \n",
    "        cos_score: the cosine similarity matrix (numpy array)\n",
    "        n: highest n many values (int)\n",
    "    \"\"\"\n",
    "    high_score_idx = []\n",
    "    for i in cos_score.argsort():\n",
    "        high_score_idx.append(i[-2])\n",
    "    \n",
    "    high_score_val = []\n",
    "    for i in high_score_idx:\n",
    "        for j in range(cos_score.shape[0]):\n",
    "            high_score_val.append(cos_score[j][i])\n",
    "    \n",
    "    return sorted(zip(high_score_val,range(cos_score.shape[0]), high_score_idx), reverse = True)[:n]"
   ]
  },
  {
   "cell_type": "code",
   "execution_count": 24,
   "metadata": {
    "collapsed": false,
    "scrolled": true
   },
   "outputs": [
    {
     "data": {
      "text/plain": [
       "array([[ 1.        ,  0.98655805,  0.98857711, ...,  0.98440187,\n",
       "         0.98260245,  0.99206594],\n",
       "       [ 0.98655805,  1.        ,  0.98869722, ...,  0.99075786,\n",
       "         0.99129441,  0.98881101],\n",
       "       [ 0.98857711,  0.98869722,  1.        , ...,  0.98662362,\n",
       "         0.98770244,  0.99363584],\n",
       "       ..., \n",
       "       [ 0.98440187,  0.99075786,  0.98662362, ...,  1.        ,\n",
       "         0.9866014 ,  0.98713522],\n",
       "       [ 0.98260245,  0.99129441,  0.98770244, ...,  0.9866014 ,\n",
       "         1.        ,  0.9926331 ],\n",
       "       [ 0.99206594,  0.98881101,  0.99363584, ...,  0.98713522,\n",
       "         0.9926331 ,  1.        ]])"
      ]
     },
     "execution_count": 24,
     "metadata": {},
     "output_type": "execute_result"
    }
   ],
   "source": [
    "tfs_tot = tfidf.fit_transform(news_df['text'])\n",
    "\n",
    "#similiarty score\n",
    "cos_score = cosine_similarity(tfs_tot.toarray())\n",
    "cos_score"
   ]
  },
  {
   "cell_type": "code",
   "execution_count": 25,
   "metadata": {
    "collapsed": false,
    "scrolled": false
   },
   "outputs": [
    {
     "data": {
      "text/plain": [
       "[(1.0000000000000004, 41, 0),\n",
       " (0.99709761217762516, 0, 41),\n",
       " (0.99655580914964192, 38, 42),\n",
       " (0.99500381145590955, 6, 110),\n",
       " (0.99493980253003433, 73, 23),\n",
       " (0.99380276996499084, 51, 38),\n",
       " (0.9935602715237386, 75, 0),\n",
       " (0.99298499771924187, 99, 110),\n",
       " (0.99296961178450482, 42, 38),\n",
       " (0.99291075670721007, 37, 6)]"
      ]
     },
     "execution_count": 25,
     "metadata": {},
     "output_type": "execute_result"
    }
   ],
   "source": [
    "get_top_cossim(cos_score,10)"
   ]
  },
  {
   "cell_type": "markdown",
   "metadata": {
    "collapsed": true
   },
   "source": [
    "<b>From the above results, it seems like article 0 and 41 are extremely similar when compared in both ways, runner-ups are article 38 and 42, and 6 and 110</b>"
   ]
  },
  {
   "cell_type": "code",
   "execution_count": 26,
   "metadata": {
    "collapsed": false
   },
   "outputs": [],
   "source": [
    "#helper function to get common words between 2 articles\n",
    "\n",
    "def find_common_words(text1, text2):\n",
    "    set1 = set(stem_text([text1], True))\n",
    "    set2 = set(stem_text([text2], True))\n",
    "    \n",
    "    return len(set1 & set2), set1 & set2"
   ]
  },
  {
   "cell_type": "code",
   "execution_count": 27,
   "metadata": {
    "collapsed": false,
    "scrolled": false
   },
   "outputs": [
    {
     "name": "stdout",
     "output_type": "stream",
     "text": [
      "(35, set([u'help', u'approv', u'continu', u'critic', u'interim', u'opportun', u'impact', u'educ', u'commun', u'univers', u'ralph', u'research', u'current', u'state', u'davi', u'valu', u'new', u'leader', u'faculti', u'may', u'chancellor', u'initi', u'nation', u'california', u'believ', u'student', u'becom', u'hexter', u'last', u'provid', u'say', u'presid', u'academ', u'campu', u'uc']))\n"
     ]
    }
   ],
   "source": [
    "#1st pair words in common\n",
    "print find_common_words(news_df['text'].ix[41], news_df['text'].ix[0])"
   ]
  },
  {
   "cell_type": "code",
   "execution_count": 28,
   "metadata": {
    "collapsed": false,
    "scrolled": false
   },
   "outputs": [
    {
     "name": "stdout",
     "output_type": "stream",
     "text": [
      "(41, set([u'continu', u'say', u'want', u'need', u'opportun', u'pursu', u'napolitano', u'safeti', u'would', u'polici', u'media', u'support', u'univers', u'research', u'also', u'state', u'program', u'includ', u'across', u'janet', u'chancellor', u'gener', u'june', u'california', u'plan', u'student', u'educ', u'davi', u'center', u'possibl', u'provid', u'could', u'request', u'focu', u'order', u'stand', u'presid', u'meet', u'studi', u'campu', u'uc']))\n"
     ]
    }
   ],
   "source": [
    "#2nd pair words in common\n",
    "print find_common_words(news_df['text'].ix[38], news_df['text'].ix[42])"
   ]
  },
  {
   "cell_type": "code",
   "execution_count": 29,
   "metadata": {
    "collapsed": false,
    "scrolled": false
   },
   "outputs": [
    {
     "name": "stdout",
     "output_type": "stream",
     "text": [
      "(37, set([u'one', u'protest', u'dakota', u'reserv', u'involv', u'scale', u'leak', u'make', u'access', u'also', u'state', u'hold', u'complet', u'pipelin', u'north', u'potenti', u'peopl', u'missouri', u'water', u'california', u'month', u'demonstr', u'land', u'organ', u'corpor', u'could', u'say', u'surround', u'indigen', u'american', u'environ', u'stand', u'clean', u'rock', u'countri', u'river', u'treati']))\n"
     ]
    }
   ],
   "source": [
    "#3rd pair words in common\n",
    "print find_common_words(news_df['text'].ix[6], news_df['text'].ix[110])"
   ]
  },
  {
   "cell_type": "markdown",
   "metadata": {
    "collapsed": true
   },
   "source": [
    "### Some Conclusion\n",
    "\n",
    "#### What are the titles of the top 3 pairs of most similar articles? Examine each pair of articles. What words do they have in common?\n",
    "\n",
    "\n",
    "* Titles of top 3 pairs of most similar articles \n",
    "\n",
    "    1st pair: \n",
    "        Interim Chancellor Hexter, UC leaders sign letter to urge action against climate change\n",
    "    \n",
    "        UC President selects Gary May as new UC Davis chancellor\n",
    "\n",
    "    2nd pair: \n",
    "        Napolitano to reinforce tentative plans to expand UC Davis into Sacramento\n",
    "    \n",
    "        California schools press Donald Trump to continue DACA as president\n",
    "    \n",
    "    3rd pair: \n",
    "        UC Davis students participate in UC-wide #NoDAPL day of action\n",
    "    \n",
    "        Water is sacred, water is life\n",
    "        \n",
    "* Common words between each pair shown\n",
    "\n",
    "    1st pair:\n",
    "    \n",
    "    - 35 words in common \n",
    "     \n",
    "    - academ','approv','becom','believ','california','campu','chancellor','commun','continu','critic', 'current','davi','educ','faculti', 'help', 'hexter','impact','initi','interim','last', 'leader','may','nation','new','opportun','presid','provid','ralph','research','say','state','student','uc', 'univers','valu'\n",
    "\n",
    " 2nd pair:\n",
    " \n",
    " - 41 words in common\n",
    " \n",
    " - u'continu', u'say', u'want', u'need', u'opportun', u'pursu', u'napolitano', u'safeti', u'would', u'polici', u'media', u'support', u'univers', u'research', u'also', u'state', u'program', u'includ', u'across', u'janet', u'chancellor', u'gener', u'june', u'california', u'plan', u'student', u'educ', u'davi', u'center', u'possibl', u'provid', u'could', u'request', u'focu', u'order', u'stand', u'presid', u'meet', u'studi', u'campu', u'uc'\n",
    " \n",
    " 3rd pair:\n",
    " \n",
    " - 37 words in common\n",
    " \n",
    " - 'one', 'protest', 'dakota', 'reserv', 'involv', 'scale', 'leak', 'make', 'access', 'also', 'state', 'hold', 'complet', 'pipelin', 'north', 'potenti', 'peopl', 'missouri', 'water', 'california', 'month', 'demonstr', 'land', 'organ', 'corpor', 'could', 'say', 'surround', u'indigen', 'american', 'environ', 'stand', 'clean', 'rock', 'countri', 'river', 'treati'\n",
    "\n",
    "\n",
    "* It seems like the amount of words shared in common does not necessarily lead to high similarity value. This might be because the common words' occurrence vary from pair to pair, some pair may have less common words but the occurrences of such words are high, and vice versa"
   ]
  },
  {
   "cell_type": "markdown",
   "metadata": {
    "collapsed": true
   },
   "source": [
    "<hr style=\"height:2px;border:none;color:#333;\" />"
   ]
  },
  {
   "cell_type": "markdown",
   "metadata": {
    "collapsed": true
   },
   "source": [
    "#### Do you think this corpus is representative of the Aggie? Why or why not? What kinds of inference can this corpus support? Explain your reasoning."
   ]
  },
  {
   "cell_type": "markdown",
   "metadata": {
    "collapsed": true
   },
   "source": [
    "* In my opinion, I don't think this corpus alone is representative of the Aggie. First, due to the limited data, there are only 120 articles in our corpus, and out of those, only the news section was obtained. I would consider this corpus as a sample of the \"big picture\". Also, I don't believe discarding other sections such as sports and arts will represent the Aggie's diversity in terms of topics. Since the Aggie covers mostly about students' life and the community in the city of Davis, as a student myself, I'm very interested and love to know what's happening in other sections, not just news. Hence, I think it's not very representative.\n",
    "\n",
    "\n",
    "* This corpus covers timeline from Late Feburary (now) up to Early November of 2016. If one is interested in looking at news coverage after the 2016 presidential election or wants to know the aftermath of a university community's reaction to the election, this corpus will do a fair job supporting such topics. Other inferences that this corpus might support can be related to activaties during winter break, a majority of students are not local citizens here in Davis, so it's interesting to find out what's happening in Davis during the winter break and holidays"
   ]
  }
 ],
 "metadata": {
  "anaconda-cloud": {},
  "kernelspec": {
   "display_name": "Python [default]",
   "language": "python",
   "name": "python2"
  },
  "language_info": {
   "codemirror_mode": {
    "name": "ipython",
    "version": 2
   },
   "file_extension": ".py",
   "mimetype": "text/x-python",
   "name": "python",
   "nbconvert_exporter": "python",
   "pygments_lexer": "ipython2",
   "version": "2.7.12"
  }
 },
 "nbformat": 4,
 "nbformat_minor": 2
}
